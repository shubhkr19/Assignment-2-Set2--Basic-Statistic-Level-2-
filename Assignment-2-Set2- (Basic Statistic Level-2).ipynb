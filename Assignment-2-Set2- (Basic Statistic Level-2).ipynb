{
 "cells": [
  {
   "cell_type": "markdown",
   "id": "0b96ea94",
   "metadata": {},
   "source": [
    "# 1.\tThe time required for servicing transmissions is normally distributed with  = 45 minutes and  = 8 minutes. The service manager plans to have work begin on the transmission of a customer’s car 10 minutes after the car is dropped off and the customer is told that the car will be ready within 1 hour from drop-off. What is the probability that the service manager cannot meet his commitment? \n",
    "\n"
   ]
  },
  {
   "cell_type": "code",
   "execution_count": 1,
   "id": "3301ee94",
   "metadata": {},
   "outputs": [],
   "source": [
    "from scipy import stats\n",
    "from scipy.stats import norm"
   ]
  },
  {
   "cell_type": "code",
   "execution_count": 2,
   "id": "b5747af1",
   "metadata": {},
   "outputs": [
    {
     "data": {
      "text/plain": [
       "0.625"
      ]
     },
     "execution_count": 2,
     "metadata": {},
     "output_type": "execute_result"
    }
   ],
   "source": [
    "# Find Z-Scores at X=50; Z = (X - µ) / σ \n",
    "Z=(50-45)/8\n",
    "Z"
   ]
  },
  {
   "cell_type": "code",
   "execution_count": 6,
   "id": "4cd98c2b",
   "metadata": {},
   "outputs": [
    {
     "data": {
      "text/plain": [
       "0.26598552904870054"
      ]
     },
     "execution_count": 6,
     "metadata": {},
     "output_type": "execute_result"
    }
   ],
   "source": [
    "# Find probability P(X>50) = 1-stats.norm.cdf(abs(z_score))\n",
    "1-stats.norm.cdf(abs(0.625))"
   ]
  },
  {
   "cell_type": "markdown",
   "id": "1beda68c",
   "metadata": {},
   "source": [
    "# 0.26 is the probability that the service manager cannot meet his commitment. "
   ]
  },
  {
   "cell_type": "markdown",
   "id": "f187d460",
   "metadata": {},
   "source": [
    "# Q.2"
   ]
  },
  {
   "cell_type": "markdown",
   "id": "6d37db9f",
   "metadata": {},
   "source": [
    "# a)Probabilty of employees greater than age of 44= Pr(X>44)"
   ]
  },
  {
   "cell_type": "code",
   "execution_count": 4,
   "id": "69e62857",
   "metadata": {},
   "outputs": [
    {
     "data": {
      "text/plain": [
       "1.0"
      ]
     },
     "execution_count": 4,
     "metadata": {},
     "output_type": "execute_result"
    }
   ],
   "source": [
    "# Find Z-Scores at X=44; Z = (X - µ) / σ \n",
    "Z=(44-38)/6\n",
    "Z"
   ]
  },
  {
   "cell_type": "code",
   "execution_count": 10,
   "id": "371da3f7",
   "metadata": {},
   "outputs": [
    {
     "data": {
      "text/plain": [
       "0.15865525393145707"
      ]
     },
     "execution_count": 10,
     "metadata": {},
     "output_type": "execute_result"
    }
   ],
   "source": [
    "# Find probability P(X>44) = 1-stats.norm.cdf(abs(z_score))\n",
    "P = 1-stats.norm.cdf(abs(1.0))\n",
    "P\n"
   ]
  },
  {
   "cell_type": "markdown",
   "id": "bdb97c3d",
   "metadata": {},
   "source": [
    "# Probabilty of employees between 38-44 years of age = Pr(X<44)"
   ]
  },
  {
   "cell_type": "code",
   "execution_count": 12,
   "id": "a82a3f90",
   "metadata": {},
   "outputs": [
    {
     "data": {
      "text/plain": [
       "0.8413447460685429"
      ]
     },
     "execution_count": 12,
     "metadata": {},
     "output_type": "execute_result"
    }
   ],
   "source": [
    "Q= 1-P\n",
    "Q"
   ]
  },
  {
   "cell_type": "code",
   "execution_count": 13,
   "id": "ce92290e",
   "metadata": {},
   "outputs": [
    {
     "data": {
      "text/plain": [
       "0.3413447460685429"
      ]
     },
     "execution_count": 13,
     "metadata": {},
     "output_type": "execute_result"
    }
   ],
   "source": [
    "#Probabilty of employees between 38-44 years of age = Pr(X<44)-0.5\n",
    "Q-0.5"
   ]
  },
  {
   "cell_type": "markdown",
   "id": "e4ef7c55",
   "metadata": {},
   "source": [
    "# Therefore the statement that \"A.\tMore employees at the processing center are older than 44 than between 38 and 44\" is True."
   ]
  },
  {
   "cell_type": "markdown",
   "id": "e9f1aae5",
   "metadata": {},
   "source": [
    "# b) Probabilty of employees less than age of 30 = Pr(X<30)"
   ]
  },
  {
   "cell_type": "code",
   "execution_count": 14,
   "id": "ecdde359",
   "metadata": {},
   "outputs": [
    {
     "data": {
      "text/plain": [
       "-1.3333333333333333"
      ]
     },
     "execution_count": 14,
     "metadata": {},
     "output_type": "execute_result"
    }
   ],
   "source": [
    "# Find Z-Scores at X=30; Z = (X - µ) / σ \n",
    "Z=(30-38)/6\n",
    "Z"
   ]
  },
  {
   "cell_type": "code",
   "execution_count": 15,
   "id": "a980198b",
   "metadata": {},
   "outputs": [
    {
     "data": {
      "text/plain": [
       "0.09126590190044159"
      ]
     },
     "execution_count": 15,
     "metadata": {},
     "output_type": "execute_result"
    }
   ],
   "source": [
    "# Find probability P(X<30) = 1-stats.norm.cdf(abs(z_score))\n",
    "P = 1-stats.norm.cdf(abs(-1.333))\n",
    "P\n"
   ]
  },
  {
   "cell_type": "markdown",
   "id": "ce615308",
   "metadata": {},
   "source": [
    "# So the number of employees with probability 0.0912 of them being under age 30= 0.0912*400 = 36.48\n",
    " Therefore the statement B is also True"
   ]
  },
  {
   "cell_type": "markdown",
   "id": "caa1e002",
   "metadata": {},
   "source": [
    "# 4.\tLet X ~ N(100, 202). Find two values, a and b, symmetric about the mean, such that the probability of the random variable taking a value between them is 0.99. \n",
    "\n"
   ]
  },
  {
   "cell_type": "code",
   "execution_count": 16,
   "id": "b25c2303",
   "metadata": {},
   "outputs": [],
   "source": [
    "#The probability towards left from a = -0.005\n",
    "#The probability towards left from a =  0.005"
   ]
  },
  {
   "cell_type": "code",
   "execution_count": 18,
   "id": "09494fa2",
   "metadata": {},
   "outputs": [],
   "source": [
    "# Find Z-Scores \n",
    "#Z = (X - µ) / σ \n",
    "#Z*σ + µ = X\n"
   ]
  },
  {
   "cell_type": "code",
   "execution_count": 22,
   "id": "41705ba1",
   "metadata": {},
   "outputs": [],
   "source": [
    "#Z(-0.005)*20+100 = 151.4"
   ]
  },
  {
   "cell_type": "code",
   "execution_count": 23,
   "id": "ce21e1af",
   "metadata": {},
   "outputs": [],
   "source": [
    "#Z(0.005)*20+100 = 48.6"
   ]
  },
  {
   "cell_type": "code",
   "execution_count": 24,
   "id": "13c1fa85",
   "metadata": {},
   "outputs": [],
   "source": [
    "#so option D is correct"
   ]
  },
  {
   "cell_type": "markdown",
   "id": "cceccd5d",
   "metadata": {},
   "source": [
    "# 5.\tConsider a company that has two different divisions. The annual profits from the two divisions are independent and have distributions Profit1 ~ N(5, 32) and Profit2 ~ N(7, 42) respectively. Both the profits are in $ Million. Answer the following questions about the total profit of the company in Rupees. Assume that $1 = Rs. 45"
   ]
  },
  {
   "cell_type": "code",
   "execution_count": 25,
   "id": "a3824b7a",
   "metadata": {},
   "outputs": [],
   "source": [
    "import numpy as np\n",
    "from scipy import stats\n",
    "from scipy.stats import norm"
   ]
  },
  {
   "cell_type": "code",
   "execution_count": 26,
   "id": "09c28e02",
   "metadata": {},
   "outputs": [
    {
     "name": "stdout",
     "output_type": "stream",
     "text": [
      "Mean Profit is Rs 540 Million\n"
     ]
    }
   ],
   "source": [
    "# Mean profits from two different divisions of a company = Mean1 + Mean2\n",
    "Mean = 5+7\n",
    "print('Mean Profit is Rs', Mean*45,'Million')"
   ]
  },
  {
   "cell_type": "code",
   "execution_count": 27,
   "id": "74ee59a1",
   "metadata": {},
   "outputs": [
    {
     "name": "stdout",
     "output_type": "stream",
     "text": [
      "Standard Deviation is Rs 225.0 Million\n"
     ]
    }
   ],
   "source": [
    "# Variance of profits from two different divisions of a company = SD^2 = SD1^2 + SD2^2\n",
    "SD = np.sqrt((9)+(16))\n",
    "print('Standard Deviation is Rs', SD*45, 'Million')"
   ]
  },
  {
   "cell_type": "markdown",
   "id": "8a70b59d",
   "metadata": {},
   "source": [
    "# A.\tSpecify a Rupee range (centered on the mean) such that it contains 95% probability for the annual profit of the company"
   ]
  },
  {
   "cell_type": "code",
   "execution_count": 29,
   "id": "1ec76e78",
   "metadata": {},
   "outputs": [
    {
     "name": "stdout",
     "output_type": "stream",
     "text": [
      "Range is Rs (99.00810347848784, 980.9918965215122) in Millions\n"
     ]
    }
   ],
   "source": [
    "print('Range is Rs',(stats.norm.interval(0.95,540,225)),'in Millions')"
   ]
  },
  {
   "cell_type": "markdown",
   "id": "424c6aee",
   "metadata": {},
   "source": [
    "# B. Specify the 5th percentile of profit (in Rupees) for the company"
   ]
  },
  {
   "cell_type": "code",
   "execution_count": 30,
   "id": "8c3e09dd",
   "metadata": {},
   "outputs": [
    {
     "name": "stdout",
     "output_type": "stream",
     "text": [
      "5th percentile of profit (in Million Rupees) is 170.0\n"
     ]
    }
   ],
   "source": [
    "# To compute 5th Percentile, we use the formula X=μ + Zσ; wherein from z table, 5 percentile = -1.645\n",
    "X= 540+(-1.645)*(225)\n",
    "print('5th percentile of profit (in Million Rupees) is',np.round(X,))"
   ]
  },
  {
   "cell_type": "markdown",
   "id": "a4a6fd29",
   "metadata": {},
   "source": [
    "# C. Which of the two divisions has a larger probability of making a loss in a given year?"
   ]
  },
  {
   "cell_type": "code",
   "execution_count": 31,
   "id": "0e62b1a3",
   "metadata": {},
   "outputs": [
    {
     "data": {
      "text/plain": [
       "0.0477903522728147"
      ]
     },
     "execution_count": 31,
     "metadata": {},
     "output_type": "execute_result"
    }
   ],
   "source": [
    "# Probability of Division 1 making a loss P(X<0)\n",
    "stats.norm.cdf(0,5,3)"
   ]
  },
  {
   "cell_type": "code",
   "execution_count": 32,
   "id": "95ed274e",
   "metadata": {},
   "outputs": [
    {
     "data": {
      "text/plain": [
       "0.040059156863817086"
      ]
     },
     "execution_count": 32,
     "metadata": {},
     "output_type": "execute_result"
    }
   ],
   "source": [
    "# Probability of Division 2 making a loss P(X<0)\n",
    "stats.norm.cdf(0,7,4)"
   ]
  },
  {
   "cell_type": "code",
   "execution_count": 33,
   "id": "cb8cd01a",
   "metadata": {},
   "outputs": [],
   "source": [
    "#Probability of division of 1 is larger."
   ]
  },
  {
   "cell_type": "code",
   "execution_count": null,
   "id": "09b01747",
   "metadata": {},
   "outputs": [],
   "source": []
  }
 ],
 "metadata": {
  "kernelspec": {
   "display_name": "Python 3 (ipykernel)",
   "language": "python",
   "name": "python3"
  },
  "language_info": {
   "codemirror_mode": {
    "name": "ipython",
    "version": 3
   },
   "file_extension": ".py",
   "mimetype": "text/x-python",
   "name": "python",
   "nbconvert_exporter": "python",
   "pygments_lexer": "ipython3",
   "version": "3.9.12"
  }
 },
 "nbformat": 4,
 "nbformat_minor": 5
}
